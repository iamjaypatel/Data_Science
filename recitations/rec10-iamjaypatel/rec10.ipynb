{
 "cells": [
  {
   "cell_type": "markdown",
   "metadata": {},
   "source": [
    "# CS 1656 – Introduction to Data Science \n",
    "\n",
    "## Instructor: Alexandros Labrinidis \n",
    "### Teaching Assistant: Xiaoting Li\n",
    "### Additional credits:Tahereh Arabghalizi,  E. Karageorgos, Zuha Agha, Anatoli Shein, Phuong Pham\n",
    "\n",
    "## Recitation : Cypher+Neo4j+Python\n",
    "---\n",
    "In this recitation, we will query a Neo4j graph database using with Cypher language and Python. Neo4j is a highly scalable, native graph database purpose-built to leverage not only data but also its relationships. Cypher is a declarative graph query language that allows for expressive and efficient querying and updating of the graph store.\n"
   ]
  },
  {
   "cell_type": "code",
   "execution_count": null,
   "metadata": {},
   "outputs": [],
   "source": [
    "# Use the following to get the neo4j database password from the user\n",
    "import getpass\n",
    "print (\"Give me your neo4j password:\")\n",
    "neopass = getpass.getpass()\n",
    "#print (\"You typed:\", neopass)"
   ]
  },
  {
   "cell_type": "code",
   "execution_count": null,
   "metadata": {},
   "outputs": [],
   "source": [
    "from neo4j import GraphDatabase, basic_auth\n",
    "\n",
    "# More information on neo4j python API at:\n",
    "# http://neo4j.com/docs/api/python-driver/current/\n",
    "\n",
    "#Connect to the database\n",
    "uri = \"bolt://localhost:7687\"\n",
    "driver = GraphDatabase.driver(uri, auth=(\"neo4j\", neopass))\n",
    "\n",
    "#Start new session\n",
    "session = driver.session()\n",
    "\n",
    "#Start new transaction\n",
    "transaction = session.begin_transaction()"
   ]
  },
  {
   "cell_type": "markdown",
   "metadata": {},
   "source": [
    "### Queries\n",
    "__Q1) Find the actor named \"Tom Hanks\".__"
   ]
  },
  {
   "cell_type": "code",
   "execution_count": null,
   "metadata": {},
   "outputs": [],
   "source": [
    "result = transaction.run(\"\"\"\n",
    "MATCH (tom:Actor {name: 'Tom Hanks'})\n",
    "RETURN tom\n",
    ";\"\"\")\n",
    "for record in result:\n",
    "    print (record)"
   ]
  },
  {
   "cell_type": "markdown",
   "metadata": {},
   "source": [
    "### Tasks\n",
    "__Q2) Find the movie with title \"Avatar\".__"
   ]
  },
  {
   "cell_type": "markdown",
   "metadata": {
    "collapsed": true
   },
   "source": [
    "__Q3) Find movies released in the 1990s.__"
   ]
  },
  {
   "cell_type": "markdown",
   "metadata": {},
   "source": [
    "__Q4) List all Tom Hanks movies.__"
   ]
  },
  {
   "cell_type": "markdown",
   "metadata": {},
   "source": [
    "__Q5) Who directed \"Avatar\".__"
   ]
  },
  {
   "cell_type": "markdown",
   "metadata": {},
   "source": [
    "__Q6) Tom Hanks' co-actors.__"
   ]
  },
  {
   "cell_type": "markdown",
   "metadata": {},
   "source": [
    "__Q7) How people are related to \"Avatar\".__"
   ]
  },
  {
   "cell_type": "markdown",
   "metadata": {},
   "source": [
    "__Q8) Extend Tom Hanks co-actors, to find co-co-actors who haven't worked with Tom Hanks.__"
   ]
  },
  {
   "cell_type": "markdown",
   "metadata": {},
   "source": [
    "__Q9) Find someone to introduce Tom Hanks to Tom Cruise.__"
   ]
  },
  {
   "cell_type": "markdown",
   "metadata": {},
   "source": [
    "__Let's close the session and the transaction.__"
   ]
  },
  {
   "cell_type": "code",
   "execution_count": null,
   "metadata": {},
   "outputs": [],
   "source": [
    "transaction.close()\n",
    "session.close()"
   ]
  },
  {
   "cell_type": "code",
   "execution_count": null,
   "metadata": {},
   "outputs": [],
   "source": []
  }
 ],
 "metadata": {
  "anaconda-cloud": {},
  "kernelspec": {
   "display_name": "Python 3",
   "language": "python",
   "name": "python3"
  },
  "language_info": {
   "codemirror_mode": {
    "name": "ipython",
    "version": 3
   },
   "file_extension": ".py",
   "mimetype": "text/x-python",
   "name": "python",
   "nbconvert_exporter": "python",
   "pygments_lexer": "ipython3",
   "version": "3.6.4"
  }
 },
 "nbformat": 4,
 "nbformat_minor": 1
}
